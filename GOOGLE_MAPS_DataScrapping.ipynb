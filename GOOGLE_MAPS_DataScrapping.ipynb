{
 "cells": [
  {
   "cell_type": "code",
   "execution_count": null,
   "id": "7f965981-1b04-4e15-b82b-29328fd078cb",
   "metadata": {},
   "outputs": [],
   "source": [
    "# Start by importing libraries\n",
    "import os\n",
    "os.environ['USE_PYGEOS'] = '0'\n",
    "import geopandas as gpd\n",
    "import osmnx as ox\n",
    "import matplotlib.pyplot as plt"
   ]
  },
  {
   "cell_type": "code",
   "execution_count": null,
   "id": "6b058404-d10f-47ad-9ed8-3d98533f6f5b",
   "metadata": {},
   "outputs": [],
   "source": [
    "# Define the extent using a shapefile\n",
    "extent_shp_path = 'YOUR_LINK.shp'\n",
    "# Read the shp with GeoPandas\n",
    "gdf = gpd.read_file(extent_shp_path)"
   ]
  },
  {
   "cell_type": "code",
   "execution_count": null,
   "id": "bb9bf9c8-3d91-46e6-b493-2e7c89c8591d",
   "metadata": {},
   "outputs": [],
   "source": [
    "# Fetch OSM data based on tags with osmnx library\n",
    "features = ox.features_from_polygon(gdf.geometry.values[0], tags={'OSM KEY': 'OSM VALUE'})"
   ]
  },
  {
   "cell_type": "code",
   "execution_count": null,
   "id": "ec55ddc6-ae4d-40c2-aec1-aad713af6a2d",
   "metadata": {},
   "outputs": [],
   "source": [
    "# Convert the features to a GeoDataFrame\n",
    "features_gdf = gpd.GeoDataFrame(features)"
   ]
  },
  {
   "cell_type": "code",
   "execution_count": null,
   "id": "81b15b83-c7b8-4943-b2e8-69e4f2d29571",
   "metadata": {},
   "outputs": [],
   "source": [
    "# Keep only desired geometry type \n",
    "features_geom = features_gdf[features_gdf.geometry.type == 'GEOMETRY_TYPE']"
   ]
  },
  {
   "cell_type": "code",
   "execution_count": null,
   "id": "6f525329-f3e8-4628-a696-246bf22fb2c6",
   "metadata": {
    "scrolled": true
   },
   "outputs": [],
   "source": [
    "# Inspect the fetched dataset\n",
    "features_geom"
   ]
  },
  {
   "cell_type": "code",
   "execution_count": null,
   "id": "3528b27f-93d4-43fc-85c8-b359a04dc1e6",
   "metadata": {},
   "outputs": [],
   "source": [
    "# Save the GeoDataFrame to a new shapefile\n",
    "new_shapefile_path = 'OUTPUT_LINK.shp'\n",
    "features_geom.to_file(new_shapefile_path, encoding='utf-8')"
   ]
  }
 ],
 "metadata": {
  "kernelspec": {
   "display_name": "ragaes",
   "language": "python",
   "name": "ragaes"
  },
  "language_info": {
   "codemirror_mode": {
    "name": "ipython",
    "version": 3
   },
   "file_extension": ".py",
   "mimetype": "text/x-python",
   "name": "python",
   "nbconvert_exporter": "python",
   "pygments_lexer": "ipython3",
   "version": "3.10.13"
  }
 },
 "nbformat": 4,
 "nbformat_minor": 5
}
