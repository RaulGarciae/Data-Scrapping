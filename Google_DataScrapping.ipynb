{
  "metadata": {
    "kernelspec": {
      "name": "xpython",
      "display_name": "Python 3.13 (XPython)",
      "language": "python"
    },
    "language_info": {
      "file_extension": ".py",
      "mimetype": "text/x-python",
      "name": "python",
      "version": "3.13.1"
    }
  },
  "nbformat_minor": 5,
  "nbformat": 4,
  "cells": [
    {
      "id": "6868e703-cd72-4564-ab4e-e21b6a6a56e5",
      "cell_type": "code",
      "source": "import geopandas as gpd\nfrom shapely.geometry import Point\nimport requests\nimport math",
      "metadata": {
        "trusted": true
      },
      "outputs": [],
      "execution_count": null
    },
    {
      "id": "fa47a352-4ddb-4c90-8cbe-e8e3e04d663a",
      "cell_type": "code",
      "source": "def get_fuel_stations_near_point(lat, lon, radius, api_key):\n    # Define search query for fuel stations near a specific point\n    query = \"fuel stations\"\n    \n    # Send request to Google Places API with location and radius\n    url = f\"https://maps.googleapis.com/maps/api/place/textsearch/json?query={query}&location={lat},{lon}&radius={radius}&key={api_key}\"\n    response = requests.get(url)\n    data = response.json()\n    \n    # Extract locations\n    locations = []\n    if 'results' in data:\n        for result in data['results']:\n            name = result['name']\n            lat = result['geometry']['location']['lat']\n            lon = result['geometry']['location']['lng']\n            locations.append({'Name': name, 'Latitude': lat, 'Longitude': lon})\n    \n    return locations",
      "metadata": {
        "trusted": true
      },
      "outputs": [],
      "execution_count": null
    },
    {
      "id": "29a8c8b8-a4db-4c01-8bb9-e4cd49ae2553",
      "cell_type": "code",
      "source": "def create_search_radius(centroid, distance_km):\n    # Approximate radius in meters\n    radius_meters = distance_km * 1000\n    return radius_meters",
      "metadata": {
        "trusted": true
      },
      "outputs": [],
      "execution_count": null
    },
    {
      "id": "7e6eacc2-a576-4af6-ba17-07effc791f6f",
      "cell_type": "code",
      "source": "# Load the centroid shapefile (replace with your own shapefile path)\nshapefile_path = \"path_to_your_centroid_shapefile.shp\"\ncentroids = gpd.read_file(shapefile_path)",
      "metadata": {
        "trusted": true
      },
      "outputs": [],
      "execution_count": null
    },
    {
      "id": "5988e814-0500-4817-a4e7-9e4ec3e77cbc",
      "cell_type": "code",
      "source": "# Initialize an empty list to collect all fuel stations\nall_fuel_stations = []\n\n# Your Google Maps API key\napi_key = 'YOUR_API_KEY'\n\n# Define the search radius in kilometers\nsearch_radius_km = 10\n",
      "metadata": {
        "trusted": true
      },
      "outputs": [],
      "execution_count": null
    },
    {
      "id": "b73a9a59-509b-46b4-a003-a792deeddccd",
      "cell_type": "code",
      "source": "# Iterate over each centroid\nfor _, row in centroids.iterrows():\n    centroid_geom = row['geometry']\n    lat, lon = centroid_geom.y, centroid_geom.x\n    \n    # Define the search radius in meters\n    radius = create_search_radius(centroid_geom, search_radius_km)\n    \n    # Get fuel stations within the radius from the centroid\n    fuel_stations_nearby = get_fuel_stations_near_point(lat, lon, radius, api_key)\n    \n    # Add to the overall list\n    all_fuel_stations.extend(fuel_stations_nearby)",
      "metadata": {
        "trusted": true
      },
      "outputs": [],
      "execution_count": null
    },
    {
      "id": "39e8a226-3a41-47cd-94bb-4f56ef61a0a6",
      "cell_type": "code",
      "source": "# Convert the final list of stations into a GeoDataFrame\nlatitudes = [station['Latitude'] for station in all_fuel_stations]\nlongitudes = [station['Longitude'] for station in all_fuel_stations]\npoints = [Point(lon, lat) for lon, lat in zip(longitudes, latitudes)]\ngdf = gpd.GeoDataFrame(all_fuel_stations, geometry=points)",
      "metadata": {
        "trusted": true
      },
      "outputs": [],
      "execution_count": null
    },
    {
      "id": "9ea78f5e-2a80-4337-8b4d-fa045ad91b77",
      "cell_type": "code",
      "source": "# Define output GeoPackage path\noutput_gpkg = \"lithuania_fuel.gpkg\"\n\n# Save as GeoPackage\ngdf.to_file(output_gpkg, layer='fuel_stations', driver=\"GPKG\")\n\nprint(f\"GeoPackage saved as {output_gpkg} with {len(gdf)} fuel stations.\")\n",
      "metadata": {
        "trusted": true
      },
      "outputs": [],
      "execution_count": null
    }
  ]
}
